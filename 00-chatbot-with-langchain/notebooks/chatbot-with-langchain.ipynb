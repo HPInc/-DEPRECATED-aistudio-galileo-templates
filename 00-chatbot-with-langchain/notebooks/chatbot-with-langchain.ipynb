{
 "cells": [
  {
   "cell_type": "markdown",
   "id": "bd9ff4be-1fee-47eb-8d09-611c29a7a83f",
   "metadata": {},
   "source": [
    "# RAG with Galileo and Langchain\n",
    "Retrieval-Augmented Generation (RAG) is an architectural approach that can enhance the effectiveness of large language model (LLM) applications using customized data. In this example, we use LangChain, an orchestrator for language pipelines, to build an assistant capable of loading information from a web page and use it for answering user questions"
   ]
  },
  {
   "cell_type": "markdown",
   "id": "7156d10f-d930-4be7-a9e8-15606d466460",
   "metadata": {},
   "source": [
    "## Step 0: Configuring the environment\n",
    "By using our Local GenAI workspace image, many of the necessary libraries to work with RAG already come pre-installed - in our case, we just need to add the connector to work with PDF documents"
   ]
  },
  {
   "cell_type": "code",
   "execution_count": 1,
   "id": "8e700f51-9011-401c-90d3-a07ea8238955",
   "metadata": {
    "scrolled": true
   },
   "outputs": [
    {
     "name": "stdout",
     "output_type": "stream",
     "text": [
      "Collecting PyPDF==5.4.0 (from -r ../requirements.txt (line 1))\n",
      "  Downloading pypdf-5.4.0-py3-none-any.whl.metadata (7.3 kB)\n",
      "Downloading pypdf-5.4.0-py3-none-any.whl (302 kB)\n",
      "Installing collected packages: PyPDF\n",
      "Successfully installed PyPDF-5.4.0\n"
     ]
    }
   ],
   "source": [
    "!pip install -r ../requirements.txt"
   ]
  },
  {
   "cell_type": "markdown",
   "id": "20ca6361-dd3c-4778-9a9d-b11da7b20151",
   "metadata": {},
   "source": [
    "### Configuration of Hugging face caches\n",
    "\n",
    "In the next cell, we configure HuggingFace cache, so that all the models downloaded from them are persisted locally, even after the workspace is closed. This is a future desired feature for AI Studio and the GenAI addon."
   ]
  },
  {
   "cell_type": "code",
   "execution_count": 2,
   "id": "77853772-0239-40d0-94be-7a62fcb465c6",
   "metadata": {},
   "outputs": [],
   "source": [
    "import os\n",
    "import sys\n",
    "\n",
    "# Add the src directory to the path to import utils\n",
    "sys.path.append(os.path.abspath(os.path.join(os.getcwd(), \"../..\")))\n",
    "from src.utils import configure_hf_cache\n",
    "\n",
    "# Configure HuggingFace cache\n",
    "configure_hf_cache()"
   ]
  },
  {
   "cell_type": "markdown",
   "id": "a7062ee0",
   "metadata": {},
   "source": [
    "### Configuration and Secrets Loading\n",
    "\n",
    "In this section, we load configuration parameters and API keys from separate YAML files. This separation helps maintain security by keeping sensitive information (API keys) separate from configuration settings.\n",
    "\n",
    "- **config.yaml**: Contains non-sensitive configuration parameters like model sources and URLs\n",
    "- **secrets.yaml**: Contains sensitive API keys for services like Galileo and HuggingFace"
   ]
  },
  {
   "cell_type": "code",
   "execution_count": 3,
   "id": "4e0b7464-ad76-47f2-94f0-e70c4d4cc380",
   "metadata": {},
   "outputs": [],
   "source": [
    "from src.utils import load_config_and_secrets\n",
    "\n",
    "config_path = \"../../configs/config.yaml\"\n",
    "secrets_path = \"../../configs/secrets.yaml\"\n",
    "\n",
    "config, secrets = load_config_and_secrets(config_path, secrets_path)"
   ]
  },
  {
   "cell_type": "markdown",
   "id": "2ba50026-86dc-4d90-a827-55fe7882cfe8",
   "metadata": {},
   "source": [
    "### Proxy Configuration\n",
    "\n",
    "In order to connect to Galileo service, a SSH connection needs to be established. For certain enterprise networks, this might require an explicit setup of the proxy configuration. If this is your case, set up the \"proxy\" field on your config.yaml and the following cell will configure the necessary environment variable."
   ]
  },
  {
   "cell_type": "code",
   "execution_count": 4,
   "id": "a76a9c4e",
   "metadata": {},
   "outputs": [],
   "source": [
    "from src.utils import configure_proxy\n",
    "\n",
    "configure_proxy(config)"
   ]
  },
  {
   "cell_type": "markdown",
   "id": "1d92659e-23ea-4965-bb27-58cd1dd0f3ec",
   "metadata": {},
   "source": [
    "## Step 1: Data Loading\n",
    "\n",
    "In this step, we will use the Langchain framework to  extract the content from a local PDF file with the product documentation. Also, we have commented some example on how to use Web Loaders to load data form pages on the web."
   ]
  },
  {
   "cell_type": "code",
   "execution_count": 5,
   "id": "41b054f8-6bca-4f82-9f51-04cf05024896",
   "metadata": {},
   "outputs": [
    {
     "name": "stderr",
     "output_type": "stream",
     "text": [
      "USER_AGENT environment variable not set, consider setting it to identify your requests.\n"
     ]
    }
   ],
   "source": [
    "from langchain.document_loaders import WebBaseLoader\n",
    "from langchain_community.document_loaders import PyPDFLoader"
   ]
  },
  {
   "cell_type": "code",
   "execution_count": 6,
   "id": "fb4c1589-285f-4e72-ab8e-5ae9fbd4043d",
   "metadata": {},
   "outputs": [],
   "source": [
    "data_path = \"../data\"\n",
    "\n",
    "if not os.path.exists(data_path):\n",
    "    raise FileNotFoundError(f\"'data' folder not found in path: {os.path.abspath(data_path)}\")\n",
    "\n",
    "file_path = os.path.join(data_path, \"AIStudioDoc.pdf\")\n",
    "pdf_loader = PyPDFLoader(file_path)\n",
    "pdf_data = pdf_loader.load()\n",
    "\n",
    "#loader1 = WebBaseLoader(\"https://www.hp.com/us-en/workstations/ai-studio.html\") # If you want to change the knowledge base, just modify this link.\n",
    "#data1 = loader1.load()\n",
    "\n",
    "#loader2 = WebBaseLoader(\"https://zdocs.datascience.hp.com/docs/aistudio\")\n",
    "#data2 = loader2.load()"
   ]
  },
  {
   "cell_type": "markdown",
   "id": "bc63ed05-192e-4f59-856c-cf9bff160fc8",
   "metadata": {},
   "source": [
    "## Step 2: Creation of Chunks\n",
    "Here, we split the loaded documents into chunks, so we have smaller and more specific texts to add do our vector database."
   ]
  },
  {
   "cell_type": "code",
   "execution_count": 7,
   "id": "c3dbd381-58b8-4569-aa75-b26d07556b09",
   "metadata": {},
   "outputs": [],
   "source": [
    "from langchain.text_splitter import RecursiveCharacterTextSplitter\n",
    "\n",
    "text_splitter = RecursiveCharacterTextSplitter(chunk_size=500, chunk_overlap=0)\n",
    "splits = text_splitter.split_documents(pdf_data)"
   ]
  },
  {
   "cell_type": "markdown",
   "id": "7999ff1f-1f6a-452c-848e-e3c67adf7766",
   "metadata": {},
   "source": [
    "\n",
    "## Step 3: Retrieval\n",
    "\n",
    "We transform the texts into embeddings and store them in a vector database. This allows us to perform similarity search, and proper retrieval of documents\n"
   ]
  },
  {
   "cell_type": "code",
   "execution_count": 8,
   "id": "9e43ae88-252a-4cbe-96e4-081daa3dc25d",
   "metadata": {},
   "outputs": [
    {
     "name": "stderr",
     "output_type": "stream",
     "text": [
      "/opt/conda/lib/python3.12/site-packages/sentence_transformers/cross_encoder/CrossEncoder.py:11: TqdmExperimentalWarning: Using `tqdm.autonotebook.tqdm` in notebook mode. Use `tqdm.tqdm` instead to force console mode (e.g. in jupyter console)\n",
      "  from tqdm.autonotebook import tqdm, trange\n",
      "/opt/conda/lib/python3.12/site-packages/transformers/tokenization_utils_base.py:1617: FutureWarning: `clean_up_tokenization_spaces` was not set. It will be set to `True` by default. This behavior will be deprecated in transformers v4.45, and will be then set to `False` by default. For more details check this issue: https://github.com/huggingface/transformers/issues/31884\n",
      "  warnings.warn(\n"
     ]
    }
   ],
   "source": [
    "from langchain_huggingface import HuggingFaceEmbeddings\n",
    "from langchain.vectorstores import Chroma\n",
    "\n",
    "embedding = HuggingFaceEmbeddings()\n",
    "\n",
    "vectordb = Chroma.from_documents(documents=splits, embedding=embedding)\n",
    "retriever = vectordb.as_retriever()"
   ]
  },
  {
   "cell_type": "markdown",
   "id": "58329084-640e-4b25-be70-ac1ec90467e9",
   "metadata": {},
   "source": [
    "## Step 4: Model\n",
    "\n",
    "In this notebook, we provide three different options for loading the model:\n",
    " * **local**: by loading the llama2-7b model from the asset downloaded on the project\n",
    " * **hugging-face-local** by downloading a DeepSeek model from Hugging Face and running locally\n",
    " * **hugging-face-cloud** by accessing the Mistral model through Hugging Face cloud API (requires HuggingFace API key saved on secrets.yaml)\n",
    "\n",
    "This choice can be set in the variable model_source below or as an entry in the config.yaml file. The model deployed on the bottom cells of this notebook will load the choice from the config file."
   ]
  },
  {
   "cell_type": "code",
   "execution_count": 9,
   "id": "65b1fa71-43ae-49e1-9f2f-ad730a00ca99",
   "metadata": {},
   "outputs": [],
   "source": [
    "model_source = \"local\"\n",
    "if \"model_source\" in config:\n",
    "    model_source = config[\"model_source\"]"
   ]
  },
  {
   "cell_type": "code",
   "execution_count": 10,
   "id": "774e18a8-bef4-4b67-9972-ceda2af6538d",
   "metadata": {},
   "outputs": [
    {
     "name": "stderr",
     "output_type": "stream",
     "text": [
      "/tmp/ipykernel_244/644084972.py:3: DeprecationWarning: callback_manager is deprecated. Please use callbacks instead.\n",
      "  llm = initialize_llm(model_source, secrets)\n"
     ]
    }
   ],
   "source": [
    "from src.utils import initialize_llm\n",
    "\n",
    "llm = initialize_llm(model_source, secrets)"
   ]
  },
  {
   "cell_type": "markdown",
   "id": "f81f5d66-d99d-4851-a48e-248b2e81e2c9",
   "metadata": {},
   "source": [
    "## Step 5: Chain\n",
    "In this part, we define a pipeline that receives a question and context, formats the context documents, and uses a Hugging Face (Mistral) chat model to answer the question based on the provided context. The output is then formatted as a string for easy reading."
   ]
  },
  {
   "cell_type": "code",
   "execution_count": 11,
   "id": "116d88a8-6d84-4d46-964e-c891965776dd",
   "metadata": {},
   "outputs": [],
   "source": [
    "from langchain.prompts import ChatPromptTemplate\n",
    "from langchain.schema import StrOutputParser\n",
    "from langchain.schema.runnable import RunnablePassthrough\n",
    "from typing import List\n",
    "from langchain.schema.document import Document\n",
    "\n",
    "def format_docs(docs: List[Document]) -> str:\n",
    "    return \"\\n\\n\".join([d.page_content for d in docs])\n",
    "\n",
    "template = \"\"\"You are an virtual Assistant for a Data Science platform called AI Studio. Answer the question based on the following context:\n",
    "\n",
    "    {context}\n",
    "\n",
    "    Question: {query}\n",
    "    \"\"\"\n",
    "prompt = ChatPromptTemplate.from_template(template)\n",
    "\n",
    "chain = {\"context\": retriever | format_docs, \"query\": RunnablePassthrough()} | prompt | llm | StrOutputParser()"
   ]
  },
  {
   "cell_type": "markdown",
   "id": "cb7d2a5d-35e3-46ed-a53e-ef49fc1c11a4",
   "metadata": {},
   "source": [
    "## Step 6: Galileo Evaluate\n",
    "Through the Galileo library called Prompt Quality, we connect our API generated in the Galileo Evaluate to log in. To get your ApiKey, use this link: https://console.hp.galileocloud.io/api-keys\n",
    "\n",
    "Galileo Evaluate is a platform designed to optimize and simplify the experimentation and evaluation of generative AI systems, especially large language model (LLM) applications. Its goal is to facilitate the process of building AI systems with deep insights and collaborative tools, replacing fragmented experimentation in spreadsheets and notebooks with a more integrated approach.\n",
    "\n",
    "You can log metrics in Galileo Evaluate and track all your experiments in one place. In our example, we logged several questions, selected specific metrics, and ran a batch of experiments to evaluate our chain. To learn more about the available metrics, see: [Galileo Guardrail Metrics](https://docs.rungalileo.io/galileo/gen-ai-studio-products/galileo-guardrail-metrics)."
   ]
  },
  {
   "cell_type": "code",
   "execution_count": 12,
   "id": "f7e666a9-311c-42d4-bc34-260333184ca9",
   "metadata": {},
   "outputs": [
    {
     "name": "stdout",
     "output_type": "stream",
     "text": [
      "👋 You have logged into 🔭 Galileo (https://console.hp.galileocloud.io/) as muhammed.turhan@hp.com.\n"
     ]
    },
    {
     "data": {
      "text/plain": [
       "Config(console_url=HttpUrl('https://console.hp.galileocloud.io/'), username=None, password=None, api_key=SecretStr('**********'), token=SecretStr('**********'), current_user='muhammed.turhan@hp.com', current_project_id=None, current_project_name=None, current_run_id=None, current_run_name=None, current_run_url=None, current_run_task_type=None, current_template_id=None, current_template_name=None, current_template_version_id=None, current_template_version=None, current_template=None, current_dataset_id=None, current_job_id=None, current_prompt_optimization_job_id=None, api_url=HttpUrl('https://api.hp.galileocloud.io/'))"
      ]
     },
     "execution_count": 12,
     "metadata": {},
     "output_type": "execute_result"
    }
   ],
   "source": [
    "import promptquality as pq\n",
    "from src.utils import setup_galileo_environment\n",
    "\n",
    "#########################################\n",
    "# In order to connect to Galileo, create a secrets.yaml file in the same folder as this notebook\n",
    "# This file should be an entry called Galileo, with the your personal Galileo API Key\n",
    "# Galileo API keys can be created on https://console.hp.galileocloud.io/settings/api-keys\n",
    "#########################################\n",
    "\n",
    "setup_galileo_environment(secrets)\n",
    "pq.login(os.environ['GALILEO_CONSOLE_URL'])"
   ]
  },
  {
   "cell_type": "code",
   "execution_count": 13,
   "id": "349bbb9c-5181-4ffd-ba4f-6d3833c1670e",
   "metadata": {},
   "outputs": [
    {
     "data": {
      "application/vnd.jupyter.widget-view+json": {
       "model_id": "b3240c5c2da24632984da3760fbb4197",
       "version_major": 2,
       "version_minor": 0
      },
      "text/plain": [
       "Processing chain run...:   0%|          | 0/5 [00:00<?, ?it/s]"
      ]
     },
     "metadata": {},
     "output_type": "display_data"
    },
    {
     "name": "stdout",
     "output_type": "stream",
     "text": [
      "Initial job complete, executing scorers asynchronously. Current status:\n",
      "rag_nli: Done ✅\n",
      "cost: Done ✅\n",
      "toxicity: Done ✅\n",
      "sexist: Done ✅\n",
      "pii: Done ✅\n",
      "protect_status: Done ✅\n",
      "latency: Done ✅\n",
      "factuality: Failed ❌, error was: Executing this metric requires credentials for OpenAI, Azure OpenAI or Vertex to be set.\n",
      "🔭 View your prompt run on the Galileo console at: https://console.hp.galileocloud.io/prompt/chains/4457d62f-0369-4293-a846-3e87aa5f9d53/4271623c-2595-421d-bc99-7648ae6f7c0c?taskType=12\n"
     ]
    }
   ],
   "source": [
    "from src.utils import initialize_galileo_evaluator\n",
    "\n",
    "# Create callback handler\n",
    "prompt_handler = initialize_galileo_evaluator(\n",
    "    project_name=\"Chatbot_template_demo\",\n",
    "    scorers=[pq.Scorers.context_adherence_luna, pq.Scorers.correctness, pq.Scorers.toxicity, pq.Scorers.sexist]\n",
    ")\n",
    "\n",
    "# Run your chain experiments across multiple inputs with the galileo callback\n",
    "inputs = [\n",
    "    \"What is AI Studio\",\n",
    "    \"How to create projects in AI Studio?\"\n",
    "    \"How to monitor experiments?\",\n",
    "    \"What are the different workspaces available?\",\n",
    "    \"What, exactly, is a workspace?\",\n",
    "    \"How to share my experiments with my team?\",\n",
    "    \"Can I access my Git repository?\",\n",
    "    \"Do I have access to files on my local computer?\",\n",
    "    \"How do I access files on the cloud?\",\n",
    "    \"Can I invite more people to my team?\"\n",
    "]\n",
    "chain.batch(inputs, config=dict(callbacks=[prompt_handler]))\n",
    "\n",
    "# publish the results of your run\n",
    "prompt_handler.finish()"
   ]
  },
  {
   "cell_type": "markdown",
   "id": "f3949f16-d4ce-4112-8dd1-8753d77b5b89",
   "metadata": {},
   "source": [
    "## Galileo Protect\n",
    "\n",
    "Galileo Protect serves as a powerful tool for safeguarding AI model outputs by detecting and preventing the release of sensitive information like personal addresses or other PII. By integrating Galileo Protect into your AI pipelines, you can ensure that model responses comply with privacy and security guidelines in real-time.\n",
    "\n",
    "Galileo functions as an API that provides support for protection verification of your chain/LLM. To log into the Galileo console, it is necessary to integrate it with another service, such as Galileo Evaluate or Galileo Observe.\n",
    "\n",
    "**Attention**: an integrated API within the Galileo console is required to perform this verification."
   ]
  },
  {
   "cell_type": "code",
   "execution_count": 15,
   "id": "b3e35a57-aaee-4a07-92f7-050bbab481c2",
   "metadata": {},
   "outputs": [],
   "source": [
    "import galileo_protect as gp\n",
    "from src.utils import initialize_galileo_protect\n",
    "\n",
    "project, project_id, stage_id = initialize_galileo_protect('AIStudio_Chatbot_Protectasdfa')"
   ]
  },
  {
   "cell_type": "markdown",
   "id": "cc7bb1ae-42ec-40ee-8e51-5476270b3880",
   "metadata": {},
   "source": [
    "Galileo Protect works by creating rules that identify conditions such as Personally Identifiable Information (PII) and toxicity. It ensures that the prompt will not receive or respond to sensitive questions. In this example, we create a set of rules (ruleset) and a set of actions that return a pre-programmed response if a rule is triggered. Galileo Protect also offers a variety of other metrics to suit different protection needs. You can learn more about the available metrics here: [Supported Metrics and Operators](https://docs.rungalileo.io/galileo/gen-ai-studio-products/galileo-protect/how-to/supported-metrics-and-operators).\n",
    "\n",
    "Additionally, it is possible to import rulesets directly from Galileo through stages. Learn more about this feature here: [Invoking Rulesets](https://docs.rungalileo.io/galileo/gen-ai-studio-products/galileo-protect/how-to/invoking-rulesets).\n"
   ]
  },
  {
   "cell_type": "code",
   "execution_count": 16,
   "id": "d4b2528d-a9d8-4b71-9403-a07487ceccc5",
   "metadata": {},
   "outputs": [
    {
     "data": {
      "text/plain": [
       "'Personal Identifiable Information detected in the model output. Sorry, I cannot answer that question.'"
      ]
     },
     "execution_count": 16,
     "metadata": {},
     "output_type": "execute_result"
    }
   ],
   "source": [
    "from galileo_protect import ProtectTool, ProtectParser, Ruleset\n",
    "\n",
    "# Define a ruleset for PII detection (specifically SSN)\n",
    "pii_ruleset = Ruleset(\n",
    "    # Define the rules to check for potential issues\n",
    "    rules=[\n",
    "        {\n",
    "            \"metric\": \"pii\",  # Using Personal Identifiable Information metric\n",
    "            \"operator\": \"contains\",  # Check if PII contains specific type\n",
    "            \"target_value\": \"ssn\",  # Looking for Social Security Numbers\n",
    "        },\n",
    "    ],\n",
    "    # Define the action to take when rules are triggered\n",
    "    action={\n",
    "        \"type\": \"OVERRIDE\",  # Override the model response\n",
    "        \"choices\": [\n",
    "            \"Personal Identifiable Information detected in the model output. Sorry, I cannot answer that question.\"\n",
    "        ],\n",
    "    }\n",
    ")\n",
    "\n",
    "# Create the protect tool with the ruleset\n",
    "protect_tool = ProtectTool(stage_id=stage_id, prioritized_rulesets=[pii_ruleset], timeout=10)\n",
    "\n",
    "# Create a protect parser for our chain\n",
    "protect_parser = ProtectParser(chain=chain)\n",
    "\n",
    "# Combine the protect tool with the parser to create a protected chain\n",
    "protected_chain = protect_tool | protect_parser.parser\n",
    "\n",
    "# Test the protected chain with a sample containing PII\n",
    "protected_chain.invoke({\"input\": \"What's my SSN? Hint: my SSN is 123-45-6789\", \"output\": \"Your SSN is 123-45-6789\"})"
   ]
  },
  {
   "cell_type": "markdown",
   "id": "d860ec17-f7dc-4da7-8a3e-7e256af053ea",
   "metadata": {},
   "source": [
    "## Galileo Observe\n",
    "\n",
    "Galileo Observe helps you monitor your generative AI applications in production. With Observe you will understand how your users are using your application and identify where things are going wrong. Keep tabs on your production system, instantly receive alerts when bad things happen, and perform deep root cause analysis though the Observe dashboard.\n",
    "\n",
    "You can connect Galileo Observe to your Langchain chain to monitor metrics such as cost and guardrail indicators."
   ]
  },
  {
   "cell_type": "code",
   "execution_count": 17,
   "id": "374cd723-911f-461d-bdb8-4ec5d10cb478",
   "metadata": {},
   "outputs": [
    {
     "data": {
      "text/plain": [
       "' Answer: AI Studio is a virtual assistant for a data science platform called Z by HP AI Studio. It is a standalone application specifically developed for data scientists and engineers to connect to multiple data-stores across local and cloud networks, so they can access the correct data and packages, wherever they are. AI Studio lets users perform all their computation locally without interruption to manage development, data, and model environments.'"
      ]
     },
     "execution_count": 17,
     "metadata": {},
     "output_type": "execute_result"
    }
   ],
   "source": [
    "#Connecting Langchain with Galileo Observe\n",
    "from src.utils import initialize_galileo_observer\n",
    "\n",
    "monitor_handler = initialize_galileo_observer(project_name=\"AIStudio_Chatbot_Observe\")\n",
    "\n",
    "example_query = \"What is AI Studio?\"\n",
    "\n",
    "output = chain.invoke(\n",
    "    example_query,\n",
    "    config=dict(callbacks=[monitor_handler])\n",
    ")\n",
    "\n",
    "output"
   ]
  },
  {
   "cell_type": "markdown",
   "id": "4a1dedbb-91b9-4f70-bcbd-fe0a54a3f386",
   "metadata": {},
   "source": [
    "### Galileo Protect + Evaluate\n",
    "\n",
    "Here, we combined Galileo Protect with Galileo Evaluate and ran a batch of sensitive questions to see Galileo Protect in action.\n"
   ]
  },
  {
   "cell_type": "code",
   "execution_count": 18,
   "id": "fc933213-fea8-4767-aaab-12f2712571d4",
   "metadata": {},
   "outputs": [
    {
     "data": {
      "application/vnd.jupyter.widget-view+json": {
       "model_id": "003e6c5baf184f4a86e68fafeeba0360",
       "version_major": 2,
       "version_minor": 0
      },
      "text/plain": [
       "Processing chain run...:   0%|          | 0/5 [00:00<?, ?it/s]"
      ]
     },
     "metadata": {},
     "output_type": "display_data"
    },
    {
     "name": "stdout",
     "output_type": "stream",
     "text": [
      "Initial job complete, executing scorers asynchronously. Current status:\n",
      "rag_nli: Done ✅\n",
      "rouge: Done ✅\n",
      "cost: Done ✅\n",
      "bleu: Done ✅\n",
      "toxicity: Done ✅\n",
      "sexist: Done ✅\n",
      "pii: Done ✅\n",
      "protect_status: Done ✅\n",
      "latency: Done ✅\n",
      "factuality: Failed ❌, error was: Executing this metric requires credentials for OpenAI, Azure OpenAI or Vertex to be set.\n",
      "🔭 View your prompt run on the Galileo console at: https://console.hp.galileocloud.io/prompt/chains/d2657078-7403-47ff-99b9-ebbb2658ac5c/3e3d2801-b846-46da-a873-9a55a740d68b?taskType=12\n"
     ]
    }
   ],
   "source": [
    "prompt_handler = initialize_galileo_evaluator(\n",
    "    project_name=\"test_galileo_evaluate\",\n",
    "    scorers=[pq.Scorers.context_adherence_luna, pq.Scorers.correctness, pq.Scorers.toxicity, pq.Scorers.sexist, pq.Scorers.pii]\n",
    ")\n",
    "\n",
    "# List of inputs with different variants of SSN queries\n",
    "inputs = [\n",
    "    {\"input\": \"What's my SSN? Hint: my SSN is 123-45-6789\", \"output\": \"Your SSN is 123-45-6789\"},\n",
    "    {\"input\": \"Can you confirm my SSN is 987-65-4321?\", \"output\": \"Your SSN is 987-65-4321\"},\n",
    "    {\"input\": \"I'm trying to remember my SSN, I think it's 111-22-3333\", \"output\": \"Your SSN is 111-22-3333\"},\n",
    "    {\"input\": \"Is 222-33-4444 my SSN?\", \"output\": \"Yes, that is your SSN.\"},\n",
    "    {\"input\": \"Could you look up my SSN: 555-66-7777?\", \"output\": \"Your SSN is 555-66-7777\"},\n",
    "]\n",
    "\n",
    "# Running the batch chain with GalileoPromptCallback\n",
    "protected_chain.batch(inputs, config=dict(callbacks=[prompt_handler]))\n",
    "\n",
    "# Finalizing and publishing the results\n",
    "prompt_handler.finish()"
   ]
  },
  {
   "cell_type": "markdown",
   "id": "8cc6884d",
   "metadata": {},
   "source": [
    "## Model Service Galileo Protect + Observe\n",
    "\n",
    "In this section, we demonstrate how to deploy a RAG-based chatbot service with integrated Galileo Protect and Observe capabilities. This service provides a REST API endpoint that allows users to query the knowledge base with natural language questions, upload new documents to the knowledge base, and manage conversation history, all with built-in safeguards against sensitive information and toxicity."
   ]
  },
  {
   "cell_type": "markdown",
   "id": "def118b5-cf5a-46fa-93ee-daebbaac92e1",
   "metadata": {},
   "source": [
    "## Chatbot Service\n",
    "\n",
    "This section demonstrates how to use our ChatbotService from the src/service directory. This service encapsulates all the functionality we developed in this notebook, including the document retrieval system, RAG-based question answering capabilities, and Galileo integration for protection, observation and evaluation."
   ]
  },
  {
   "cell_type": "code",
   "execution_count": 19,
   "id": "867f62bf",
   "metadata": {},
   "outputs": [
    {
     "name": "stderr",
     "output_type": "stream",
     "text": [
      "2025/04/04 15:23:16 INFO mlflow.tracking.fluent: Experiment with name 'Chatbot_Service' does not exist. Creating a new experiment.\n"
     ]
    },
    {
     "data": {
      "application/vnd.jupyter.widget-view+json": {
       "model_id": "9345ea4431ef4536a5918c99a5cead44",
       "version_major": 2,
       "version_minor": 0
      },
      "text/plain": [
       "Downloading artifacts:   0%|          | 0/1 [00:00<?, ?it/s]"
      ]
     },
     "metadata": {},
     "output_type": "display_data"
    },
    {
     "data": {
      "application/vnd.jupyter.widget-view+json": {
       "model_id": "c9c13238f4ed4e418bfa65ccfe3e8989",
       "version_major": 2,
       "version_minor": 0
      },
      "text/plain": [
       "Downloading artifacts:   0%|          | 0/1 [00:00<?, ?it/s]"
      ]
     },
     "metadata": {},
     "output_type": "display_data"
    },
    {
     "data": {
      "application/vnd.jupyter.widget-view+json": {
       "model_id": "524cd31a6d004554ae33698ba2141590",
       "version_major": 2,
       "version_minor": 0
      },
      "text/plain": [
       "Downloading artifacts:   0%|          | 0/1 [00:00<?, ?it/s]"
      ]
     },
     "metadata": {},
     "output_type": "display_data"
    },
    {
     "data": {
      "application/vnd.jupyter.widget-view+json": {
       "model_id": "bc131b55e9244056bd0a5bd32efddc58",
       "version_major": 2,
       "version_minor": 0
      },
      "text/plain": [
       "Downloading artifacts:   0%|          | 0/46 [00:00<?, ?it/s]"
      ]
     },
     "metadata": {},
     "output_type": "display_data"
    },
    {
     "data": {
      "application/vnd.jupyter.widget-view+json": {
       "model_id": "7827d5495b6547d69156e85502baf61a",
       "version_major": 2,
       "version_minor": 0
      },
      "text/plain": [
       "Downloading artifacts:   0%|          | 0/1 [00:00<?, ?it/s]"
      ]
     },
     "metadata": {},
     "output_type": "display_data"
    },
    {
     "name": "stderr",
     "output_type": "stream",
     "text": [
      "2025-04-04 15:26:08,963 - INFO - Model and artifacts successfully registered in MLflow.\n",
      "Successfully registered model 'RAG_Chatbot_Service'.\n"
     ]
    },
    {
     "name": "stdout",
     "output_type": "stream",
     "text": [
      "Model registered successfully with run ID: 5c7f77ded662460a8c78cbbe03f3b398\n"
     ]
    },
    {
     "name": "stderr",
     "output_type": "stream",
     "text": [
      "Created version '1' of model 'RAG_Chatbot_Service'.\n"
     ]
    }
   ],
   "source": [
    "import os\n",
    "import sys\n",
    "import mlflow\n",
    "\n",
    "sys.path.append(os.path.abspath(os.path.join(os.getcwd(), \"..\")))\n",
    "\n",
    "# In case you just want to run this cell without the rest of the notebook, run the following block:\n",
    "# secrets_path = \"../../configs/secrets.yaml\"\n",
    "# config_path = \"../../configs/config.yaml\"\n",
    "# data_path = \"../data\"\n",
    "\n",
    "# Import using the correct module path\n",
    "from core.chatbot_service.chatbot_service import ChatbotService\n",
    "\n",
    "# Set up the MLflow experiment\n",
    "mlflow.set_experiment(\"Chatbot_Service\")\n",
    "\n",
    "# Define paths for service artifacts\n",
    "model_path = \"/home/jovyan/datafabric/llama2-7b/ggml-model-f16-Q5_K_M.gguf\"\n",
    "demo_folder = \"../demo\"\n",
    "\n",
    "# Check if the model file exists\n",
    "if not os.path.exists(model_path):\n",
    "    print(f\"Warning: Model file not found at {model_path}. You may need to update the path.\")\n",
    "\n",
    "# Use the ChatbotService's log_model method to register the model in MLflow\n",
    "with mlflow.start_run(run_name=\"Chatbot_Service_Run\") as run:\n",
    "    # Log and register the model using the service's classmethod\n",
    "    ChatbotService.log_model(\n",
    "        secrets_path=secrets_path,\n",
    "        config_path=config_path,\n",
    "        docs_path=data_path,\n",
    "        model_path=model_path,\n",
    "        demo_folder=demo_folder\n",
    "    )\n",
    "\n",
    "    # Register the model in MLflow Model Registry\n",
    "    model_uri = f\"runs:/{run.info.run_id}/chatbot_service\"\n",
    "    mlflow.register_model(\n",
    "        model_uri=model_uri,\n",
    "        name=\"RAG_Chatbot_Service\"\n",
    "    )\n",
    "    \n",
    "    print(f\"Model registered successfully with run ID: {run.info.run_id}\")"
   ]
  }
 ],
 "metadata": {
  "kernelspec": {
   "display_name": "Python [conda env:base] *",
   "language": "python",
   "name": "conda-base-py"
  },
  "language_info": {
   "codemirror_mode": {
    "name": "ipython",
    "version": 3
   },
   "file_extension": ".py",
   "mimetype": "text/x-python",
   "name": "python",
   "nbconvert_exporter": "python",
   "pygments_lexer": "ipython3",
   "version": "3.12.7"
  }
 },
 "nbformat": 4,
 "nbformat_minor": 5
}
