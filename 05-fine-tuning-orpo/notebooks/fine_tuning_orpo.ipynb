{
 "cells": [
  {
   "cell_type": "markdown",
   "id": "ec84ac00-1a02-4fe0-af00-31c2232ba831",
   "metadata": {},
   "source": [
    "# Interactive ORPO Fine-Tuning & Inference Hub for Open LLMs\n",
    "\n",
    "This experiment provides an interactive and modular interface for selecting, downloading, fine-tuning, and evaluating large language models using ORPO (Optimal Reward Preferring Optimization).\n",
    "The user can choose between state-of-the-art open LLMs like Mistral, LLaMA 2/3, and Gemma. \n",
    "\n",
    "# Overview"
   ]
  },
  {
   "cell_type": "markdown",
   "id": "54051b27-5b97-47cd-89b2-4f2861711f14",
   "metadata": {},
   "source": [
    "## 📦 Imports\n",
    "\n",
    "By using our Local GenAI workspace image, most of the necessary libraries to work with ORPO-based fine-tuning and evaluation already come pre-installed. In this notebook, we only need to import components for model loading, quantization, inference, and feedback visualization to run the complete ORPO workflow locally"
   ]
  },
  {
   "cell_type": "code",
   "execution_count": 16,
   "id": "be25e3e1-7f9c-4536-8304-c9f1762a8f63",
   "metadata": {
    "scrolled": true
   },
   "outputs": [],
   "source": [
    "!pip install -r ../requirements.txt --quiet"
   ]
  },
  {
   "cell_type": "code",
   "execution_count": 17,
   "id": "380f85cd-8e76-4f3e-8022-c8ad210a72a2",
   "metadata": {},
   "outputs": [],
   "source": [
    "import os\n",
    "import sys\n",
    "import yaml\n",
    "\n",
    "# Define the relative path to the 'src' directory (two levels up from current working directory)\n",
    "src_path = os.path.abspath(os.path.join(os.getcwd(), \"../..\"))\n",
    "\n",
    "# Add 'src' directory to system path for module imports (e.g., utils)\n",
    "if src_path not in sys.path:\n",
    "    sys.path.append(src_path)"
   ]
  },
  {
   "cell_type": "code",
   "execution_count": 18,
   "id": "d6b15f11-b47a-4735-ab36-1063e88489f0",
   "metadata": {},
   "outputs": [],
   "source": [
    "# ===============================\n",
    "# 🧠 Core Libraries\n",
    "# ===============================\n",
    "import torch\n",
    "import multiprocessing\n",
    "import mlflow\n",
    "from datasets import load_dataset\n",
    "\n",
    "# ===============================\n",
    "# 🧪 Hugging Face & Transformers\n",
    "# ===============================\n",
    "from huggingface_hub import login\n",
    "from transformers import (\n",
    "    AutoModelForCausalLM,\n",
    "    AutoTokenizer,\n",
    "    BitsAndBytesConfig,\n",
    "    TrainingArguments,\n",
    "    pipeline,\n",
    ")\n",
    "\n",
    "# ===============================\n",
    "# 🧩 Fine-tuning (ORPO + PEFT)\n",
    "# ===============================\n",
    "from trl import ORPOConfig, ORPOTrainer, setup_chat_format\n",
    "from peft import LoraConfig, PeftModel, prepare_model_for_kbit_training\n",
    "\n",
    "# ===============================\n",
    "# 🧰 Project Modules: Core Pipeline\n",
    "# ===============================\n",
    "from core.selection.model_selection import ModelSelector\n",
    "from core.local_inference.inference import InferenceRunner\n",
    "from core.target_mapper.lora_target_mapper import LoRATargetMapper\n",
    "from core.data_visualizer.feedback_visualizer import UltraFeedbackVisualizer\n",
    "from core.finetuning_inference.inference_runner import AcceleratedInferenceRunner\n",
    "from core.merge_model.merge_lora import merge_lora_and_push\n",
    "\n",
    "# ===============================\n",
    "# 🚀 Deployment & Evaluation\n",
    "# ===============================\n",
    "from core.deploy.deploy_fine_tuning import register_llm_comparison_model\n",
    "#from core.comparer.galileo_hf_model_comparer import GalileoHFModelComparer\n",
    "import promptquality as pq\n",
    "\n",
    "# ===============================\n",
    "# ⚙️ Utility Functions\n",
    "# ===============================\n",
    "from src.utils import (\n",
    "    load_config_and_secrets,\n",
    "    configure_proxy,\n",
    "    setup_galileo_environment,\n",
    "    initialize_galileo_evaluator,\n",
    "    initialize_galileo_protect,\n",
    "    initialize_galileo_observer,\n",
    "    login_huggingface\n",
    ")\n"
   ]
  },
  {
   "cell_type": "markdown",
   "id": "625a13c8-7f4d-4942-8edd-888695bba2a4",
   "metadata": {},
   "source": [
    "## Configurations"
   ]
  },
  {
   "cell_type": "code",
   "execution_count": 19,
   "id": "7a97b90b-ed6f-4546-86d5-59279ed7ebbb",
   "metadata": {},
   "outputs": [],
   "source": [
    "CONFIG_PATH = \"../../configs/config.yaml\"\n",
    "SECRETS_PATH = \"../../configs/secrets.yaml\"\n",
    "GALILEO_EVALUATE_PROJECT_NAME=\"AIStudio-Fine-Tuning-Evaluate\"\n",
    "MLFLOW_EXPERIMENT_NAME = \"AIStudio-Chatbot-Experiment\"\n",
    "MLFLOW_RUN_NAME = \"AIStudio-Fine-Tuning-Run\"\n",
    "MLFLOW_MODEL_NAME = \"AIStudio-Fine-Tuning-Model\"\n"
   ]
  },
  {
   "cell_type": "markdown",
   "id": "c50143f8-ea8e-4e16-a33d-2a4b5f397222",
   "metadata": {},
   "source": [
    "### Proxy Configuration\n",
    "In order to connect to Galileo service, a SSH connection needs to be established. For certain enterprise networks, this might require an explicit setup of the proxy configuration. If this is your case, set up the \"proxy\" field on your config.yaml and the following cell will configure the necessary environment variable."
   ]
  },
  {
   "cell_type": "code",
   "execution_count": 20,
   "id": "cbd88721-583c-47d9-9d50-fa2f232ab176",
   "metadata": {},
   "outputs": [],
   "source": [
    "configure_proxy(CONFIG_PATH)"
   ]
  },
  {
   "cell_type": "markdown",
   "id": "585a4dd8-5f6d-4158-bbe6-6500d3e1ccd4",
   "metadata": {},
   "source": [
    "### 🔍 Model Selector\n",
    "\n",
    "Below are the available models for fine-tuning with ORPO.  \n",
    "> ⚠️ **Note:** Make sure your Hugging Face account has access permissions for the selected model (some require manual approval).\n",
    "\n",
    "| Model ID | Hugging Face Link |\n",
    "|----------|-------------------|\n",
    "| `mistralai/Mistral-7B-Instruct-v0.1` | [🔗 View on Hugging Face](https://huggingface.co/mistralai/Mistral-7B-Instruct-v0.1) |\n",
    "| `meta-llama/Llama-2-7b-chat-hf` | [🔗 View on Hugging Face](https://huggingface.co/meta-llama/Llama-2-7b-chat-hf) |\n",
    "| `meta-llama/Meta-Llama-3-8B-Instruct` | [🔗 View on Hugging Face](https://huggingface.co/meta-llama/Meta-Llama-3-8B-Instruct) |\n",
    "| `google/gemma-7b-it` | [🔗 View on Hugging Face](https://huggingface.co/google/gemma-7b-it) |\n",
    "| `google/gemma-3-1b-it` | [🔗 View on Hugging Face](https://huggingface.co/google/gemma-3-1b-it) |\n"
   ]
  },
  {
   "cell_type": "code",
   "execution_count": 14,
   "id": "14b8e20b-84b3-4837-9727-fd959e980354",
   "metadata": {},
   "outputs": [],
   "source": [
    "MODEL =  \"meta-llama/Meta-Llama-3-8B-Instruct\""
   ]
  },
  {
   "cell_type": "markdown",
   "id": "bd6cfd57-da28-49dd-b6b6-50ca4189c766",
   "metadata": {},
   "source": [
    "### 🔐 Login to Hugging Face\n",
    "\n",
    "To access gated models (e.g., LLaMA, Mistral, or Gemma), you must authenticate using your Hugging Face token.\n",
    "\n",
    "Make sure your `secrets.yaml` file contains the following key:\n",
    "\n",
    "```yaml\n",
    "HUGGINGFACE_API_KEY: your_huggingface_token"
   ]
  },
  {
   "cell_type": "code",
   "execution_count": 21,
   "id": "c965d03b-bf88-4caf-a736-e6c52aefc277",
   "metadata": {
    "scrolled": true
   },
   "outputs": [
    {
     "name": "stdout",
     "output_type": "stream",
     "text": [
      "✅ Logged into Hugging Face successfully.\n"
     ]
    }
   ],
   "source": [
    "config, secrets = load_config_and_secrets()\n",
    "login_huggingface(secrets)"
   ]
  },
  {
   "cell_type": "markdown",
   "id": "6825c882-1649-4f5c-94de-5b405a5af1c0",
   "metadata": {},
   "source": [
    "### Attention Optimization Config\n",
    "Automatically selects the most efficient attention implementation and data type (dtype) based on the GPU’s compute capability."
   ]
  },
  {
   "cell_type": "code",
   "execution_count": 22,
   "id": "7cace749-80b9-4e5a-8a45-c40df3521dc9",
   "metadata": {},
   "outputs": [],
   "source": [
    "if torch.cuda.get_device_capability()[0] >= 8:\n",
    "    !pip install -qqq flash-attn\n",
    "    attn_implementation = \"flash_attention_2\"\n",
    "    torch_dtype = torch.bfloat16\n",
    "else:\n",
    "    attn_implementation = \"eager\"\n",
    "    torch_dtype = torch.float16"
   ]
  },
  {
   "cell_type": "markdown",
   "id": "84c92c03-006e-4316-a411-2f8a3960590c",
   "metadata": {},
   "source": [
    "## Loader Model"
   ]
  },
  {
   "cell_type": "code",
   "execution_count": 9,
   "id": "f4caff0c-9f4a-40cb-b0d1-49a1afccbd6f",
   "metadata": {
    "scrolled": true
   },
   "outputs": [
    {
     "name": "stderr",
     "output_type": "stream",
     "text": [
      "2025-04-22 14:19:56,081 - INFO - [ModelSelector] Selected model: google/gemma-3-1b-it\n",
      "2025-04-22 14:19:56,084 - INFO - [ModelSelector] Downloading model snapshot to: ../../../local/models/google__gemma-3-1b-it\n",
      "/opt/conda/lib/python3.12/site-packages/huggingface_hub/file_download.py:933: UserWarning: `local_dir_use_symlinks` parameter is deprecated and will be ignored. The process to download files to a local folder has been updated and do not rely on symlinks anymore. You only need to pass a destination folder as`local_dir`.\n",
      "For more details, check out https://huggingface.co/docs/huggingface_hub/main/en/guides/download#download-files-to-local-folder.\n",
      "  warnings.warn(\n",
      "/opt/conda/lib/python3.12/site-packages/huggingface_hub/file_download.py:896: FutureWarning: `resume_download` is deprecated and will be removed in version 1.0.0. Downloads always resume when possible. If you want to force a new download, use `force_download=True`.\n",
      "  warnings.warn(\n"
     ]
    },
    {
     "data": {
      "application/vnd.jupyter.widget-view+json": {
       "model_id": "c45cf6d229f649a9a6704208c59b470f",
       "version_major": 2,
       "version_minor": 0
      },
      "text/plain": [
       "Fetching 10 files:   0%|          | 0/10 [00:00<?, ?it/s]"
      ]
     },
     "metadata": {},
     "output_type": "display_data"
    },
    {
     "name": "stderr",
     "output_type": "stream",
     "text": [
      "2025-04-22 14:19:56,276 - INFO - [ModelSelector] ✅ Model downloaded to: ../../../local/models/google__gemma-3-1b-it\n",
      "2025-04-22 14:19:56,277 - INFO - [ModelSelector] Loading model and tokenizer from: ../../../local/models/google__gemma-3-1b-it\n",
      "2025-04-22 14:20:25,472 - INFO - [ModelSelector] Checking for ORPO compatibility...\n",
      "2025-04-22 14:20:25,474 - INFO - [ModelSelector] ✅ Model 'google/gemma-3-1b-it' is ORPO-compatible.\n"
     ]
    }
   ],
   "source": [
    "selector = ModelSelector()\n",
    "selector.select_model(MODEL)\n",
    "\n",
    "model = selector.get_model()\n",
    "tokenizer = selector.get_tokenizer()\n"
   ]
  },
  {
   "cell_type": "markdown",
   "id": "6f763541-d805-4110-bec6-cb2c94c72e14",
   "metadata": {},
   "source": [
    "## 🤖 Inference with Default Model\n",
    "\n",
    "The following cell runs inference using the base (non fine-tuned) model you selected earlier.\n",
    "\n",
    "We've prepared a few prompts to test different types of reasoning and writing skills.  \n",
    "You can later compare these outputs with the results generated by the fine-tuned model."
   ]
  },
  {
   "cell_type": "code",
   "execution_count": 10,
   "id": "0eee80d8-b12d-46a7-b057-718cf8dc5079",
   "metadata": {},
   "outputs": [
    {
     "name": "stderr",
     "output_type": "stream",
     "text": [
      "2025-04-22 14:20:25,489 - INFO - [InferenceRunner] Detected 2 GPUs, loading config/default_config_multi-gpu.yaml\n",
      "2025-04-22 14:20:25,508 - INFO - [InferenceRunner] Loading model and tokenizer from snapshot at ../../../local/models/google__gemma-3-1b-it\n",
      "2025-04-22 14:20:56,164 - INFO - [InferenceRunner] Running inference on input: I need to write some nodejs code that publishes a message to a Telegram group.\n",
      "2025-04-22 14:21:03,096 - INFO - [InferenceRunner] Inference completed.\n",
      "2025-04-22 14:21:03,097 - INFO - [InferenceRunner] Running inference on input: What advice would you give to a frontend developer?\n"
     ]
    },
    {
     "name": "stdout",
     "output_type": "stream",
     "text": [
      "\n",
      "🟢 Prompt 1: I need to write some nodejs code that publishes a message to a Telegram group.\n",
      "🔽 Model Response:\n",
      "I need to write some nodejs code that publishes a message to a Telegram group.\n",
      "\n",
      "Here's the code:\n",
      "\n",
      "```javascript\n",
      "const Telegram = require('node-telegram-bot-api');\n",
      "\n",
      "// Replace with your Telegram bot token\n",
      "const token = 'YOUR_TELEGRAM_BOT_TOKEN';\n",
      "\n",
      "// Create a new bot instance\n",
      "const bot = new Telegram.Bot(token, { polling: true });\n",
      "\n",
      "// Replace with your Telegram group ID\n",
      "const groupId = 'YOUR_TELEGRAM_GROUP_ID';\n",
      "\n",
      "// Listen for messages in the channel\n",
      "--------------------------------------------------------------------------------\n"
     ]
    },
    {
     "name": "stderr",
     "output_type": "stream",
     "text": [
      "2025-04-22 14:21:09,674 - INFO - [InferenceRunner] Inference completed.\n",
      "2025-04-22 14:21:09,676 - INFO - [InferenceRunner] Running inference on input: Propose a solution that could reduce the rate of deforestation.\n"
     ]
    },
    {
     "name": "stdout",
     "output_type": "stream",
     "text": [
      "\n",
      "🟢 Prompt 2: What advice would you give to a frontend developer?\n",
      "🔽 Model Response:\n",
      "What advice would you give to a frontend developer?\n",
      "\n",
      "Okay, here’s a breakdown of advice, categorized for clarity:\n",
      "\n",
      "**1. Fundamentals & Best Practices (These are *always* important!)**\n",
      "\n",
      "* **Master the DOM:**  It’s the heart of your frontend.  Understand how it works, how to manipulate it, and how to efficiently update it.  Don't just use JavaScript to add and remove elements; learn to modify the structure and content dynamically.\n",
      "* **Learn CSS Effectively:** CSS isn't\n",
      "--------------------------------------------------------------------------------\n"
     ]
    },
    {
     "name": "stderr",
     "output_type": "stream",
     "text": [
      "2025-04-22 14:21:16,227 - INFO - [InferenceRunner] Inference completed.\n",
      "2025-04-22 14:21:16,229 - INFO - [InferenceRunner] Running inference on input: Write a eulogy for a public figure who inspired you.\n"
     ]
    },
    {
     "name": "stdout",
     "output_type": "stream",
     "text": [
      "\n",
      "🟢 Prompt 3: Propose a solution that could reduce the rate of deforestation.\n",
      "🔽 Model Response:\n",
      "Propose a solution that could reduce the rate of deforestation.\n",
      "\n",
      "**Solution: A Multi-Pronged Approach Focusing on Sustainable Land Use and Community Engagement**\n",
      "\n",
      "This solution combines several strategies, recognizing that deforestation is a complex issue with multiple root causes.\n",
      "\n",
      "**1. Promote Sustainable Agriculture and Forestry Practices:**\n",
      "\n",
      "*   **Agroforestry:** Encourage and incentivize the integration of trees into agricultural systems. This can improve soil health, biodiversity, and crop yields.\n",
      "*   **Slash-Less Forestry:** Implement and promote tree-planting initiatives that avoid cutting\n",
      "--------------------------------------------------------------------------------\n"
     ]
    },
    {
     "name": "stderr",
     "output_type": "stream",
     "text": [
      "2025-04-22 14:21:22,887 - INFO - [InferenceRunner] Inference completed.\n"
     ]
    },
    {
     "name": "stdout",
     "output_type": "stream",
     "text": [
      "\n",
      "🟢 Prompt 4: Write a eulogy for a public figure who inspired you.\n",
      "🔽 Model Response:\n",
      "Write a eulogy for a public figure who inspired you.\n",
      "\n",
      "---\n",
      "\n",
      "The world feels a little quieter today, a little less vibrant.  It's hard to imagine a world without [Name]'s presence.  They were, and always will be, a beacon of [mention a key quality – e.g., hope, resilience, creativity].  [Name] didn't just *exist*; they *lived* their values, tirelessly advocating for [mention their cause/belief].\n",
      "\n",
      "I remember when [share a specific, impactful anecdote –\n",
      "--------------------------------------------------------------------------------\n"
     ]
    }
   ],
   "source": [
    "# 📋 Custom prompts for evaluation\n",
    "prompts = [\n",
    "    \"I need to write some nodejs code that publishes a message to a Telegram group.\",\n",
    "    \"What advice would you give to a frontend developer?\",\n",
    "    \"Propose a solution that could reduce the rate of deforestation.\",\n",
    "    \"Write a eulogy for a public figure who inspired you.\"\n",
    "]\n",
    "\n",
    "# ⚙️ Run inference with the selected model\n",
    "runner = InferenceRunner(selector)\n",
    "\n",
    "for idx, prompt in enumerate(prompts, 1):\n",
    "    response = runner.infer(prompt)\n",
    "    print(f\"\\n🟢 Prompt {idx}: {prompt}\\n🔽 Model Response:\\n{response}\\n{'-'*80}\")\n"
   ]
  },
  {
   "cell_type": "markdown",
   "id": "8185a001-2ed0-481f-8b3c-b7651ff8523d",
   "metadata": {},
   "source": [
    "## 🏷️ Creating the Fine-Tuned Model Name (ORPO)\n",
    "\n",
    "We define a clean and consistent name for the fine-tuned version of the selected base model"
   ]
  },
  {
   "cell_type": "code",
   "execution_count": 11,
   "id": "a08c6b04-0354-4fe6-aa6e-98fd08ca08ce",
   "metadata": {},
   "outputs": [],
   "source": [
    "base_model = selector.model_id\n",
    "model_path = selector.format_model_path(base_model)\n",
    "new_model = f\"Orpo-{base_model.split('/')[-1]}-FT\""
   ]
  },
  {
   "cell_type": "markdown",
   "id": "5c562b4c-3e2b-4ce0-b9dd-020ec89d45d6",
   "metadata": {},
   "source": [
    "### ⚙️ QLoRA Configuration\n",
    "\n",
    "We apply QLoRA (Quantized Low-Rank Adaptation) to enable efficient fine-tuning of large models using 4-bit precision.\n",
    "\n",
    "- `torch_dtype` is set to `bfloat16` if supported by the GPU, otherwise falls back to `float16`.\n",
    "- `bnb_config` (Bits and Bytes config) enables 4-bit quantization with `nf4` quantization type and double quantization.\n",
    "\n",
    "This configuration significantly reduces GPU memory usage while maintaining performance during fine-tuning."
   ]
  },
  {
   "cell_type": "code",
   "execution_count": 12,
   "id": "311e4393-0a58-403a-8137-6fd75fd4371e",
   "metadata": {},
   "outputs": [],
   "source": [
    "# 3. Configuração QLoRA (genérica)\n",
    "bnb_config = BitsAndBytesConfig(\n",
    "    load_in_4bit=True,\n",
    "    bnb_4bit_quant_type=\"nf4\",\n",
    "    bnb_4bit_compute_dtype=torch_dtype,\n",
    "    bnb_4bit_use_double_quant=True,\n",
    ")"
   ]
  },
  {
   "cell_type": "markdown",
   "id": "08163f23-e86a-4873-98a9-1b405c7d2065",
   "metadata": {},
   "source": [
    "### 🧩 PEFT Configuration (LoRA)\n",
    "\n",
    "We define the LoRA configuration using the `LoraConfig` from PEFT (Parameter-Efficient Fine-Tuning).\n"
   ]
  },
  {
   "cell_type": "code",
   "execution_count": 13,
   "id": "3eabcbe2-f5eb-48f5-a40e-1ab4b8f2e15b",
   "metadata": {},
   "outputs": [],
   "source": [
    "peft_config = LoraConfig(\n",
    "    r=16,\n",
    "    lora_alpha=32,\n",
    "    lora_dropout=0.05,\n",
    "    bias=\"none\",\n",
    "    task_type=\"CAUSAL_LM\",\n",
    "    target_modules=LoRATargetMapper.get_target_modules(base_model)\n",
    ")"
   ]
  },
  {
   "cell_type": "markdown",
   "id": "13e0f756-0e6b-406d-8a4e-ce139522b0f6",
   "metadata": {},
   "source": [
    "### 🧠 Load and Prepare Base Model for Training\n",
    "\n",
    "In this step, we load the base model and tokenizer from the local path, apply the quantization configuration (`bnb_config`), prepare it for tra"
   ]
  },
  {
   "cell_type": "code",
   "execution_count": 14,
   "id": "6a1ea031-aed8-4ec3-a5d3-63f1217f0ad6",
   "metadata": {},
   "outputs": [],
   "source": [
    "tokenizer = AutoTokenizer.from_pretrained(model_path, use_fast=True)"
   ]
  },
  {
   "cell_type": "code",
   "execution_count": 15,
   "id": "43be1d90-7d0e-42f0-8b9b-e03fd2ee99db",
   "metadata": {},
   "outputs": [],
   "source": [
    "model = AutoModelForCausalLM.from_pretrained(\n",
    "    model_path,\n",
    "    quantization_config=bnb_config,\n",
    "    device_map={\"\": 0}\n",
    ",\n",
    ")"
   ]
  },
  {
   "cell_type": "code",
   "execution_count": 16,
   "id": "9c40902b-9ff1-4fb0-b04f-f3387784a6dd",
   "metadata": {},
   "outputs": [
    {
     "name": "stdout",
     "output_type": "stream",
     "text": [
      "⚠️ Tokenizer already has a chat_template. Skipping setup_chat_format to avoid overwriting.\n"
     ]
    }
   ],
   "source": [
    "# Safely apply chat format only if tokenizer doesn't already have a chat_template\n",
    "if tokenizer.chat_template is None:\n",
    "    model, tokenizer = setup_chat_format(model, tokenizer)\n",
    "else:\n",
    "    print(\"⚠️ Tokenizer already has a chat_template. Skipping setup_chat_format to avoid overwriting.\")\n"
   ]
  },
  {
   "cell_type": "code",
   "execution_count": 17,
   "id": "c845a74e-764d-4324-a64a-74c0e385ee0d",
   "metadata": {},
   "outputs": [],
   "source": [
    "model = prepare_model_for_kbit_training(model)\n"
   ]
  },
  {
   "cell_type": "markdown",
   "id": "6a99c22c-d97a-4f9d-a396-db890c1f1e50",
   "metadata": {},
   "source": [
    "## 📚 Dataset Loader\n",
    "\n",
    "We use the [UltraFeedback Binarized](https://huggingface.co/datasets/HuggingFaceH4/ultrafeedback_binarized) dataset provided by Hugging Face.\n",
    "\n",
    "This dataset contains prompts along with two model-generated responses:\n",
    "- **chosen**: the response preferred by human annotators\n",
    "- **rejected**: the less preferred one\n",
    "\n",
    "For this experiment, we load a subset of the data to speed up training and evaluation.  \n",
    "A fixed seed ensures reproducibility when shuffling the data.\n"
   ]
  },
  {
   "cell_type": "code",
   "execution_count": 23,
   "id": "812d6d5f-0877-4850-acda-f2a612ea261f",
   "metadata": {},
   "outputs": [],
   "source": [
    "dataset = load_dataset(\"HuggingFaceH4/ultrafeedback_binarized\", split=[\"train_prefs\", \"test_prefs\"])\n",
    "\n",
    "# 📊 Define sample sizes for a lightweight experiment\n",
    "train_samples = 5000                         # Subset size for training\n",
    "original_train_samples = 61135              # Total training examples in the original dataset\n",
    "test_samples = int((2000 / original_train_samples) * train_samples)  # Proportional test size\n",
    "\n",
    "# 🔀 Shuffle and sample subsets from both splits\n",
    "train_subset = dataset[0].shuffle(seed=42).select(range(train_samples))\n",
    "test_subset = dataset[1].shuffle(seed=42).select(range(test_samples))\n"
   ]
  },
  {
   "cell_type": "markdown",
   "id": "a0ae9ddd-b459-487d-b9fa-a2ca42d8eaf2",
   "metadata": {},
   "source": [
    "### 📊 Dataset Visualization\n",
    "\n",
    "To help understand how the dataset works, we use the `UltraFeedbackVisualizer`.\n",
    "\n",
    "This tool logs examples from the dataset into **TensorBoard**, including:\n",
    "- The **original prompt** given to the model\n",
    "- The two possible answers: one **preferred by humans** and one that was **rejected**\n",
    "- A simple comparison showing which response was rated better\n",
    "\n",
    "Each example is displayed with clear labels and scores to help illustrate the kinds of outputs humans value more — **before we do any fine-tuning**.\n",
    "\n",
    "> This is useful to explore what “good answers” look like, based on real human feedback.\n"
   ]
  },
  {
   "cell_type": "code",
   "execution_count": 24,
   "id": "40a8b0bd-b153-4771-a196-fd0f6b80e761",
   "metadata": {
    "scrolled": true
   },
   "outputs": [
    {
     "name": "stderr",
     "output_type": "stream",
     "text": [
      "2025-04-22 16:55:07,898 - INFO - Use pytorch device_name: cuda\n",
      "2025-04-22 16:55:07,899 - INFO - Load pretrained SentenceTransformer: all-MiniLM-L6-v2\n",
      "2025-04-22 16:55:11,451 - INFO - 📊 Logging training samples (human feedback only)...\n",
      "2025-04-22 16:55:11,555 - INFO - [Example 0] ✅ Logged successfully\n",
      "2025-04-22 16:55:11,578 - INFO - [Example 1] ✅ Logged successfully\n",
      "2025-04-22 16:55:11,617 - INFO - [Example 2] ✅ Logged successfully\n",
      "2025-04-22 16:55:11,653 - INFO - [Example 3] ✅ Logged successfully\n",
      "2025-04-22 16:55:11,690 - INFO - [Example 4] ✅ Logged successfully\n",
      "2025-04-22 16:55:11,744 - INFO - [Example 5] ✅ Logged successfully\n",
      "2025-04-22 16:55:11,788 - INFO - [Example 6] ✅ Logged successfully\n",
      "2025-04-22 16:55:11,842 - INFO - [Example 7] ✅ Logged successfully\n",
      "2025-04-22 16:55:11,896 - INFO - [Example 8] ✅ Logged successfully\n",
      "2025-04-22 16:55:11,936 - INFO - [Example 9] ✅ Logged successfully\n",
      "2025-04-22 16:55:11,980 - INFO - [Example 10] ✅ Logged successfully\n",
      "2025-04-22 16:55:12,029 - INFO - [Example 11] ✅ Logged successfully\n",
      "2025-04-22 16:55:12,092 - INFO - [Example 12] ✅ Logged successfully\n",
      "2025-04-22 16:55:12,137 - INFO - [Example 13] ✅ Logged successfully\n",
      "2025-04-22 16:55:12,185 - INFO - [Example 14] ✅ Logged successfully\n",
      "2025-04-22 16:55:12,228 - INFO - [Example 15] ✅ Logged successfully\n",
      "2025-04-22 16:55:12,260 - INFO - [Example 16] ✅ Logged successfully\n",
      "2025-04-22 16:55:12,297 - INFO - [Example 17] ✅ Logged successfully\n",
      "2025-04-22 16:55:12,315 - INFO - [Example 18] ✅ Logged successfully\n",
      "2025-04-22 16:55:12,361 - INFO - [Example 19] ✅ Logged successfully\n",
      "2025-04-22 16:55:12,377 - INFO - 📊 Logging test samples (human feedback only)...\n",
      "2025-04-22 16:55:12,418 - INFO - [Example 0] ✅ Logged successfully\n",
      "2025-04-22 16:55:12,461 - INFO - [Example 1] ✅ Logged successfully\n",
      "2025-04-22 16:55:12,482 - INFO - [Example 2] ✅ Logged successfully\n",
      "2025-04-22 16:55:12,514 - INFO - [Example 3] ✅ Logged successfully\n",
      "2025-04-22 16:55:12,540 - INFO - [Example 4] ✅ Logged successfully\n",
      "2025-04-22 16:55:12,555 - INFO - [Example 5] ✅ Logged successfully\n",
      "2025-04-22 16:55:12,572 - INFO - [Example 6] ✅ Logged successfully\n",
      "2025-04-22 16:55:12,581 - INFO - [Example 7] ✅ Logged successfully\n",
      "2025-04-22 16:55:12,610 - INFO - [Example 8] ✅ Logged successfully\n",
      "2025-04-22 16:55:12,632 - INFO - [Example 9] ✅ Logged successfully\n",
      "2025-04-22 16:55:12,645 - INFO - [Example 10] ✅ Logged successfully\n",
      "2025-04-22 16:55:12,656 - INFO - [Example 11] ✅ Logged successfully\n",
      "2025-04-22 16:55:12,666 - INFO - [Example 12] ✅ Logged successfully\n",
      "2025-04-22 16:55:12,673 - INFO - [Example 13] ✅ Logged successfully\n",
      "2025-04-22 16:55:12,683 - INFO - [Example 14] ✅ Logged successfully\n",
      "2025-04-22 16:55:12,690 - INFO - [Example 15] ✅ Logged successfully\n",
      "2025-04-22 16:55:12,697 - INFO - [Example 16] ✅ Logged successfully\n",
      "2025-04-22 16:55:12,710 - INFO - [Example 17] ✅ Logged successfully\n",
      "2025-04-22 16:55:12,724 - INFO - [Example 18] ✅ Logged successfully\n",
      "2025-04-22 16:55:12,737 - INFO - [Example 19] ✅ Logged successfully\n",
      "2025-04-22 16:55:12,774 - INFO - ✅ Human feedback exploration complete!\n",
      "Launch TensorBoard with:\n",
      "tensorboard --logdir=/phoenix/tensorboard/tensorlogs --port 6006\n"
     ]
    }
   ],
   "source": [
    "visualizer = UltraFeedbackVisualizer(train_subset, test_subset,max_samples=20)\n",
    "visualizer.run()"
   ]
  },
  {
   "cell_type": "code",
   "execution_count": 20,
   "id": "39e3ec8a-1c9b-4d79-8960-3fdbeae10449",
   "metadata": {},
   "outputs": [
    {
     "data": {
      "application/vnd.jupyter.widget-view+json": {
       "model_id": "9be3e0b9c175461080ec978d9b1a6a76",
       "version_major": 2,
       "version_minor": 0
      },
      "text/plain": [
       "Map (num_proc=48):   0%|          | 0/5000 [00:00<?, ? examples/s]"
      ]
     },
     "metadata": {},
     "output_type": "display_data"
    },
    {
     "data": {
      "application/vnd.jupyter.widget-view+json": {
       "model_id": "47f124d4bd6d4d31982d847dcf760525",
       "version_major": 2,
       "version_minor": 0
      },
      "text/plain": [
       "Map (num_proc=48):   0%|          | 0/163 [00:00<?, ? examples/s]"
      ]
     },
     "metadata": {},
     "output_type": "display_data"
    },
    {
     "name": "stdout",
     "output_type": "stream",
     "text": [
      "[Dataset({\n",
      "    features: ['prompt', 'prompt_id', 'chosen', 'rejected', 'messages', 'score_chosen', 'score_rejected'],\n",
      "    num_rows: 5000\n",
      "}), Dataset({\n",
      "    features: ['prompt', 'prompt_id', 'chosen', 'rejected', 'messages', 'score_chosen', 'score_rejected'],\n",
      "    num_rows: 163\n",
      "})]\n"
     ]
    }
   ],
   "source": [
    "def process(row):\n",
    "    row[\"chosen\"] = tokenizer.apply_chat_template(row[\"chosen\"], tokenize=False)\n",
    "    row[\"rejected\"] = tokenizer.apply_chat_template(row[\"rejected\"], tokenize=False)\n",
    "    return row\n",
    "\n",
    "dataset[0] = train_subset.map(\n",
    "    process,\n",
    "    num_proc= multiprocessing.cpu_count(),\n",
    "    load_from_cache_file=False,\n",
    ")\n",
    "\n",
    "dataset[1] = test_subset.map(\n",
    "    process,\n",
    "    num_proc= multiprocessing.cpu_count(),\n",
    "    load_from_cache_file=False,\n",
    ")\n",
    "\n",
    "print(dataset)"
   ]
  },
  {
   "cell_type": "markdown",
   "id": "b6ee1788-fc5a-4afd-bb22-d5b812b41635",
   "metadata": {},
   "source": [
    "## ⚙️ ORPO Configuration\n",
    "\n",
    "We define the training configuration using the `ORPOConfig` class from TRL (Transformers Reinforcement Learning).\n",
    "\n",
    "This configuration controls how the model will be fine-tuned using ORPO (Offline Reinforcement Preference Optimization), a technique that aligns model outputs with human preferences.\n",
    "\n",
    "Key parameters include:\n",
    "- `learning_rate`: sets how fast the model updates (8e-6 is typical for PEFT)\n",
    "- `beta`: the strength of the ORPO loss term\n",
    "- `optim`: uses 8-bit optimizer for memory efficiency (paged_adamw_8bit)\n",
    "- `max_steps`: controls how long training will run (e.g., 1000 steps)\n",
    "- `eval_strategy` and `eval_steps`: defines how and when to evaluate during training\n",
    "- `output_dir`: directory to save the trained model\n",
    "\n",
    "> This configuration is compatible with all the selected models (e.g., Mistral, LLaMA, Gemma) and optimized for QLoRA fine-tuning on consumer or research-grade GPUs.\n"
   ]
  },
  {
   "cell_type": "code",
   "execution_count": 21,
   "id": "11dfc31b-313d-46c7-ac16-80534efb8169",
   "metadata": {},
   "outputs": [],
   "source": [
    "mlflow.set_experiment(MLFLOW_EXPERIMENT_NAME)\n",
    "\n",
    "orpo_args = ORPOConfig(\n",
    "    learning_rate=8e-6,\n",
    "    beta=0.1,\n",
    "    lr_scheduler_type=\"linear\",\n",
    "    max_length=1024,\n",
    "    max_prompt_length=512,\n",
    "    per_device_train_batch_size=2,\n",
    "    per_device_eval_batch_size=2,\n",
    "    gradient_accumulation_steps=4,\n",
    "    optim=\"paged_adamw_8bit\",\n",
    "    max_steps=1000,\n",
    "    eval_strategy=\"steps\",\n",
    "    eval_steps=0.2,\n",
    "    logging_steps=1,\n",
    "    warmup_steps=10,\n",
    "    report_to=[\"mlflow\",\"tensorboard\"],\n",
    "    output_dir=\"./results/\",\n",
    ")"
   ]
  },
  {
   "cell_type": "markdown",
   "id": "57d084b1-62da-4ed7-8d49-729db9bb4e3d",
   "metadata": {},
   "source": [
    "### 🚀 ORPO Trainer\n",
    "\n",
    "We now initialize the `ORPOTrainer`, which orchestrates the fine-tuning process using the Offline Reinforcement Preference Optimization (ORPO) strategy.\n",
    "\n",
    "It takes as input:\n",
    "- The **base model**, already prepared with QLoRA and chat formatting\n",
    "- The **ORPO configuration** (`orpo_args`) containing all training hyperparameters\n",
    "- The **training and evaluation datasets**\n",
    "- The **LoRA configuration** (`peft_config`) for parameter-efficient fine-tuning\n",
    "- The **tokenizer**, passed as a `processing_class`, to apply proper formatting and padding\n",
    "\n",
    "Once initialized, the trainer will be ready to start training with `trainer.train()`.\n"
   ]
  },
  {
   "cell_type": "code",
   "execution_count": 22,
   "id": "45ed75d4-44c8-4284-9f12-3da8f4cce525",
   "metadata": {},
   "outputs": [
    {
     "name": "stderr",
     "output_type": "stream",
     "text": [
      "/opt/conda/lib/python3.12/site-packages/trl/trainer/orpo_trainer.py:275: UserWarning: When using DPODataCollatorWithPadding, you should set `remove_unused_columns=False` in your TrainingArguments we have set it for you, but you should do it yourself in the future.\n",
      "  warnings.warn(\n",
      "No label_names provided for model class `PeftModelForCausalLM`. Since `PeftModel` hides base models input arguments, if label_names is not given, label_names can't be set automatically within `Trainer`. Note that empty label_names list will be used instead.\n"
     ]
    }
   ],
   "source": [
    "trainer = ORPOTrainer(\n",
    "    model=model,\n",
    "    args=orpo_args,\n",
    "    train_dataset=dataset[0],\n",
    "    eval_dataset=dataset[1],\n",
    "    peft_config=peft_config,\n",
    "    processing_class=tokenizer  \n",
    ")"
   ]
  },
  {
   "cell_type": "code",
   "execution_count": null,
   "id": "ca638984-d847-41fd-b918-78517ba82817",
   "metadata": {
    "scrolled": true
   },
   "outputs": [],
   "source": [
    "trainer.train()\n",
    "trainer.save_model(new_model)"
   ]
  },
  {
   "cell_type": "code",
   "execution_count": null,
   "id": "333d2a64-19ac-477e-8c23-4e0449cea2ce",
   "metadata": {
    "scrolled": true
   },
   "outputs": [],
   "source": [
    "merge_lora_and_push(\n",
    "    base_model_id=\"meta-llama/Meta-Llama-3-8B-Instruct\",\n",
    "    finetuned_lora_path=\"/home/jovyan/local/Orpo-Llama-FT\",\n",
    "    push_to=\"diogoviera/llama3-orpo-ft\",\n",
    "    use_bfloat16=False, \n",
    "    add_chat_template=True,\n",
    "    hf_token=None\n",
    ")\n"
   ]
  },
  {
   "cell_type": "markdown",
   "id": "7fbe5795-9dbf-412e-96d9-809d561c8c6c",
   "metadata": {},
   "source": [
    "## Galileo Evaluate\n",
    "Through the Galileo library called Prompt Quality, we connect our API generated in the Galileo Evaluate to log in. To get your ApiKey, use this link: https://console.hp.galileocloud.io/api-keys\n",
    "\n",
    "Galileo Evaluate is a platform designed to optimize and simplify the experimentation and evaluation of generative AI systems, especially large language model (LLM) applications. Its goal is to facilitate the process of building AI systems with deep insights and collaborative tools, replacing fragmented experimentation in spreadsheets and notebooks with a more integrated approach.\n",
    "\n",
    "You can log metrics in Galileo Evaluate and track all your experiments in one place. In our example, we logged several questions, selected specific metrics, and ran a batch of experiments to evaluate our chain. To learn more about the available metrics, see: Galileo Guardrail Metrics."
   ]
  },
  {
   "cell_type": "code",
   "execution_count": null,
   "id": "4e9bff3e-0c0b-4eca-a10b-a086593d834d",
   "metadata": {
    "scrolled": true
   },
   "outputs": [],
   "source": [
    "#########################################\n",
    "# In order to connect to Galileo, create a secrets.yaml file in the configs folder.\n",
    "# This file should be an entry called GALILEO_API_KEY, with your personal Galileo API Key\n",
    "# Galileo API keys can be created on https://console.hp.galileocloud.io/settings/api-keys\n",
    "#########################################\n",
    "\n",
    "setup_galileo_environment(secrets)\n",
    "pq.login(os.environ['GALILEO_CONSOLE_URL'])"
   ]
  },
  {
   "cell_type": "code",
   "execution_count": null,
   "id": "6bf71f8e-0e1a-4732-8f6f-1c62d128d4c4",
   "metadata": {},
   "outputs": [],
   "source": [
    "from core.evaluation.galileo_comparer import GalileoLocalComparer\n",
    "\n",
    "prompts = [\n",
    "    \"What is the future of generative AI?\"\n",
    "]\n",
    "\n",
    "comparer = GalileoLocalComparer(\n",
    "    base_model_path=\"meta-llama/Meta-Llama-3-8B-Instruct\",\n",
    "    finetuned_path=\"/home/jovyan/local/Orpo-Llama-FT\",\n",
    "    prompts=prompts,\n",
    "    galileo_project_name=GALILEO_EVALUATE_PROJECT_NAME,\n",
    "    galileo_url=\"https://console.hp.galileocloud.io\"\n",
    ")\n",
    "\n",
    "comparer.compare()\n"
   ]
  },
  {
   "cell_type": "markdown",
   "id": "93e5a918-4337-434d-81f9-ba5176c435e0",
   "metadata": {},
   "source": [
    "## Model Service"
   ]
  },
  {
   "cell_type": "code",
   "execution_count": null,
   "id": "26b63fb5-2f63-4a3d-879e-ce5cf0bec5d5",
   "metadata": {},
   "outputs": [],
   "source": [
    "register_llm_comparison_model(\n",
    "    model_base_path=\"../../../local/models/mistralai__Mistral-7B-Instruct-v0.1\",\n",
    "    model_finetuned_path=\"./results/Orpo-Mistral-7B-Instruct-v0.1-FT\",\n",
    "    experiment_name=\"LLM-ORPO-Experiment\",\n",
    "    run_name=MLFLOW_RUN_NAME ,\n",
    "    model_name=MLFLOW_MODEL_NAME\n",
    ")\n"
   ]
  },
  {
   "cell_type": "markdown",
   "id": "e391ccbf-ca08-4299-93c0-f67fb2551a59",
   "metadata": {},
   "source": [
    "Built with ❤️ using Z by HP AI Studio."
   ]
  }
 ],
 "metadata": {
  "kernelspec": {
   "display_name": "Python [conda env:base] *",
   "language": "python",
   "name": "conda-base-py"
  },
  "language_info": {
   "codemirror_mode": {
    "name": "ipython",
    "version": 3
   },
   "file_extension": ".py",
   "mimetype": "text/x-python",
   "name": "python",
   "nbconvert_exporter": "python",
   "pygments_lexer": "ipython3",
   "version": "3.12.7"
  }
 },
 "nbformat": 4,
 "nbformat_minor": 5
}
